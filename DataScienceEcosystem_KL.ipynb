{
  "metadata": {
    "kernelspec": {
      "name": "python",
      "display_name": "Python (Pyodide)",
      "language": "python"
    },
    "language_info": {
      "codemirror_mode": {
        "name": "python",
        "version": 3
      },
      "file_extension": ".py",
      "mimetype": "text/x-python",
      "name": "python",
      "nbconvert_exporter": "python",
      "pygments_lexer": "ipython3",
      "version": "3.8"
    }
  },
  "nbformat_minor": 4,
  "nbformat": 4,
  "cells": [
    {
      "cell_type": "markdown",
      "source": "# Data Science Tools and Ecosystem",
      "metadata": {}
    },
    {
      "cell_type": "markdown",
      "source": "In this notebook, Data Science Tools and Ecosystem are summarized......",
      "metadata": {}
    },
    {
      "cell_type": "markdown",
      "source": "# <font color='red'>Objectives:</font>\n* Programming\n* Databases\n* Data Visualization\n* JupyterLabs\n* R",
      "metadata": {}
    },
    {
      "cell_type": "markdown",
      "source": "        Some of the popular languages that Data Scientists use are:\n1. Python\n2. SQL\n3. Jupyter\n4. R\n5. Scala",
      "metadata": {}
    },
    {
      "cell_type": "markdown",
      "source": "#### <font color='orange'>Some of the commonly used libraries used by Data Scientists include:</font>\n\n1. TensorFlow\n2. NumPy\n3. SciPy\n4. Pandas\n5. Matplotlib",
      "metadata": {}
    },
    {
      "cell_type": "markdown",
      "source": "| Data Science Tools |\n|   ---------------  |\nJupyter Notebooks\nRStudio\nGoogle Colab\nVisual Studio\nDataSpell",
      "metadata": {}
    },
    {
      "cell_type": "markdown",
      "source": "### <font color='red'>Below are a few examples of evaluating arithmetic expressions in Python:</font>",
      "metadata": {}
    },
    {
      "cell_type": "code",
      "source": "11*10",
      "metadata": {
        "trusted": true
      },
      "outputs": [
        {
          "execution_count": 12,
          "output_type": "execute_result",
          "data": {
            "text/plain": "110"
          },
          "metadata": {}
        }
      ],
      "execution_count": 12
    },
    {
      "cell_type": "code",
      "source": "100 % 21",
      "metadata": {
        "trusted": true
      },
      "outputs": [
        {
          "execution_count": 14,
          "output_type": "execute_result",
          "data": {
            "text/plain": "16"
          },
          "metadata": {}
        }
      ],
      "execution_count": 14
    },
    {
      "cell_type": "code",
      "source": "",
      "metadata": {
        "trusted": true
      },
      "outputs": [],
      "execution_count": null
    },
    {
      "cell_type": "markdown",
      "source": "            Below is a simple arithmetic expression to mutiply then add integers. (3*4)+5",
      "metadata": {}
    },
    {
      "cell_type": "code",
      "source": "(3*4)+5",
      "metadata": {
        "trusted": true
      },
      "outputs": [
        {
          "execution_count": 15,
          "output_type": "execute_result",
          "data": {
            "text/plain": "17"
          },
          "metadata": {}
        }
      ],
      "execution_count": 15
    },
    {
      "cell_type": "code",
      "source": "",
      "metadata": {
        "trusted": true
      },
      "outputs": [],
      "execution_count": null
    },
    {
      "cell_type": "markdown",
      "source": "### This will convert 200 minutes to hours by diving by 60",
      "metadata": {}
    },
    {
      "cell_type": "markdown",
      "source": "    200 minutes divided by 60 minutes = (hours)",
      "metadata": {}
    },
    {
      "cell_type": "code",
      "source": "200/60",
      "metadata": {
        "trusted": true
      },
      "outputs": [
        {
          "execution_count": 19,
          "output_type": "execute_result",
          "data": {
            "text/plain": "3.3333333333333335"
          },
          "metadata": {}
        }
      ],
      "execution_count": 19
    },
    {
      "cell_type": "code",
      "source": "",
      "metadata": {
        "trusted": true
      },
      "outputs": [],
      "execution_count": null
    },
    {
      "cell_type": "markdown",
      "source": "## Author\n<font color='green'>Kevin L in California  :-) </font>",
      "metadata": {}
    },
    {
      "cell_type": "code",
      "source": "",
      "metadata": {
        "trusted": true
      },
      "outputs": [],
      "execution_count": null
    },
    {
      "cell_type": "code",
      "source": "",
      "metadata": {
        "trusted": true
      },
      "outputs": [],
      "execution_count": null
    }
  ]
}